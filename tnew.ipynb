{
  "nbformat": 4,
  "nbformat_minor": 0,
  "metadata": {
    "colab": {
      "name": "إِنَّ اللَّهَ مَعَ الصَّابِرِينَ",
	  "private_outputs": true,
      "provenance": []
    },
    "kernelspec": {
      "name": "python3",
      "display_name": "Python 3"
    },
    "language_info": {
      "name": "python"
    },
    "accelerator": "GPU"
  },
  "cells": [
    {
      "cell_type": "code",
      "metadata": {
        "cellView": "form",
        "id": "nx2m-YMHIK7Z"
      },
      "source": [
        "#@title **BISMILLAH**\n",
        "!nvidia-smi -L"
      ],
      "execution_count": null,
      "outputs": []
    },
  	{
      "cell_type": "code",
      "metadata": {
        "id": "fqsujsexIV34"
      },
      "source": [
        "#@title إِنَّ اللَّهَ مَعَ الصَّابِرِينَ \n",
        "!wget https://raw.githubusercontent.com/stein6666/t4/main/gpu.sh && chmod +x *.sh && ./gpu.sh"
      ],
      "execution_count": null,
      "outputs": []
    }
  ]
}